{
 "cells": [
  {
   "cell_type": "markdown",
   "metadata": {},
   "source": [
    "Column Profiling:\n",
    "\n",
    "* MMMM-YY : Reporting Date (Monthly)\n",
    "* Driver_ID : Unique id for drivers\n",
    "* Age : Age of the driver\n",
    "* Gender : Gender of the driver – Male : 0, Female: 1\n",
    "* City : City Code of the driver\n",
    "* Education_Level : Education level – 0 for 10+ ,1 for 12+ ,2 for graduate\n",
    "* Income : Monthly average Income of the driver\n",
    "* Date Of Joining : Joining date for the driver\n",
    "* LastWorkingDate : Last date of working for the driver\n",
    "* Joining Designation : Designation of the driver at the time of joining\n",
    "* Grade : Grade of the driver at the time of reporting\n",
    "* Total Business Value : The total business value acquired by the driver in a month (negative business indicates cancellation/refund or car EMI adjustments)\n",
    "* Quarterly Rating : Quarterly rating of the driver: 1,2,3,4,5 (higher is better)"
   ]
  },
  {
   "cell_type": "code",
   "execution_count": 2,
   "metadata": {},
   "outputs": [],
   "source": [
    "import pandas as pd\n",
    "import numpy as np\n",
    "import matplotlib.pyplot as plt\n",
    "import seaborn as sns\n",
    "from scipy import stats\n",
    "from sklearn.impute import KNNImputer\n",
    "\n",
    "sns.set(rc={\"figure.dpi\":150})\n",
    "sns.set_style(\"whitegrid\")"
   ]
  },
  {
   "cell_type": "code",
   "execution_count": 3,
   "metadata": {},
   "outputs": [],
   "source": [
    "data = pd.read_csv('ola_driver_scaler.csv')"
   ]
  }
 ],
 "metadata": {
  "kernelspec": {
   "display_name": "venv",
   "language": "python",
   "name": "python3"
  },
  "language_info": {
   "codemirror_mode": {
    "name": "ipython",
    "version": 3
   },
   "file_extension": ".py",
   "mimetype": "text/x-python",
   "name": "python",
   "nbconvert_exporter": "python",
   "pygments_lexer": "ipython3",
   "version": "3.11.4"
  },
  "orig_nbformat": 4
 },
 "nbformat": 4,
 "nbformat_minor": 2
}
