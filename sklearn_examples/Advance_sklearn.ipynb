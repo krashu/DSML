{
 "cells": [
  {
   "cell_type": "markdown",
   "metadata": {},
   "source": [
    "One Hot Encoding — Existing Solutions\n",
    "\n",
    "* pandas .get dummies\n",
    "    - can't easily apply encoding to new dataset\n",
    "* sklearn.preprocessing  Label Encoder & OneHotEncoder\n",
    "    - errors out if new levels in test data\n",
    "* sklearn.feature extraction.DictVectorizer\n",
    "    - input is list of dicts, output is numpy array"
   ]
  },
  {
   "cell_type": "markdown",
   "metadata": {},
   "source": [
    "# Custom Transformer"
   ]
  },
  {
   "cell_type": "code",
   "execution_count": 1,
   "metadata": {},
   "outputs": [
    {
     "name": "stdout",
     "output_type": "stream",
     "text": [
      "   fruits  colors\n",
      "0       0       0\n",
      "1       2       0\n",
      "2       1       1\n",
      "Categories:  [array(['Apple', 'Cherry', 'Pears'], dtype=object), array(['Green', 'Red'], dtype=object)]\n",
      "Feature names out:  ['fruits' 'colors']\n",
      "Original data after inverse_transform:\n",
      "   fruits colors\n",
      "0   Apple  Green\n",
      "1   Pears  Green\n",
      "2  Cherry    Red\n"
     ]
    }
   ],
   "source": [
    "import pandas as pd\n",
    "from sklearn.preprocessing import OrdinalEncoder\n",
    "\n",
    "class CustomOrdinalEncoder(OrdinalEncoder):\n",
    "    def __init__(self, **kwargs):\n",
    "        super().__init__(**kwargs)\n",
    "\n",
    "    def transform(self, X, y=None):\n",
    "        transformed_X = super().transform(X)\n",
    "        new_X = pd.DataFrame(transformed_X, columns=self.feature_names_in_)\n",
    "        return new_X\n",
    "\n",
    "    def get_feature_names_out(self, input_features=None):\n",
    "        return self.feature_names_in_\n",
    "\n",
    "    def inverse_transform(self, X):\n",
    "        inverse_X = super().inverse_transform(X)\n",
    "        return pd.DataFrame(inverse_X, columns=self.feature_names_in_)\n",
    "\n",
    "data = pd.DataFrame(\n",
    "    {\n",
    "        \"fruits\": [\"Apple\", \"Pears\", \"Cherry\"],\n",
    "        \"colors\": [\"Green\", \"Green\", \"Red\"],\n",
    "    }\n",
    ")\n",
    "\n",
    "enc = CustomOrdinalEncoder(dtype=int)\n",
    "new_data = enc.fit_transform(data)\n",
    "\n",
    "print(new_data)\n",
    "print(\"Categories: \", enc.categories_)\n",
    "\n",
    "# Test get_feature_names_out\n",
    "print(\"Feature names out: \", enc.get_feature_names_out(input_features=data.columns))\n",
    "\n",
    "# Test inverse_transform\n",
    "original_data = enc.inverse_transform(new_data)\n",
    "print(\"Original data after inverse_transform:\")\n",
    "print(original_data)\n"
   ]
  },
  {
   "cell_type": "code",
   "execution_count": 9,
   "metadata": {},
   "outputs": [
    {
     "name": "stdout",
     "output_type": "stream",
     "text": [
      "Transformed Data:\n",
      "   col1  col2  numeric_col\n",
      "0     0     0            0\n",
      "1     1     1            1\n",
      "2     0     0            2\n",
      "3     2     2            3\n",
      "4     0     0            4\n",
      "5     1     1            5\n",
      "6     0     0            6\n",
      "\n",
      "Inverse Transformed Data:\n",
      "  col1 col2  numeric_col\n",
      "0    A    X           10\n",
      "1    B    Y           20\n",
      "2    A    X           30\n",
      "3    C    Z           40\n",
      "4    A    X           50\n",
      "5    B    Y           60\n",
      "6    A    X           70\n",
      "Categories Out:\n",
      "{'col1': array(['A', 'B', 'C'], dtype=object), 'col2': array(['X', 'Y', 'Z'], dtype=object), 'numeric_col': array([10, 20, 30, 40, 50, 60, 70], dtype=int64)}\n",
      "Feature Names Out:\n",
      "['col1__A', 'col1__B', 'col1__C', 'col2__X', 'col2__Y', 'col2__Z', 'numeric_col__10', 'numeric_col__20', 'numeric_col__30', 'numeric_col__40', 'numeric_col__50', 'numeric_col__60', 'numeric_col__70']\n"
     ]
    }
   ],
   "source": [
    "import pandas as pd\n",
    "from sklearn.base import BaseEstimator, TransformerMixin\n",
    "from sklearn.preprocessing import LabelEncoder\n",
    "from typing import Optional, List, Union\n",
    "\n",
    "class MultiColumnLabelEncoder(BaseEstimator, TransformerMixin):\n",
    "    def __init__(self) -> None:\n",
    "        self.categories_: dict[str, Union[None, List[str]]] = {}\n",
    "\n",
    "    def fit(self, X: pd.DataFrame, y: Optional[pd.Series] = None) -> 'MultiColumnLabelEncoder':\n",
    "        self.label_encoders: dict[str, LabelEncoder] = {}\n",
    "        for col in X.columns:\n",
    "            le = LabelEncoder()\n",
    "            le.fit(X[col])\n",
    "            self.label_encoders[col] = le\n",
    "            self.categories_[col] = le.classes_\n",
    "        return self\n",
    "\n",
    "    def transform(self, X: pd.DataFrame) -> pd.DataFrame:\n",
    "        X_transformed = X.copy()\n",
    "        for col, le in self.label_encoders.items():\n",
    "            X_transformed[col] = le.transform(X[col])\n",
    "        return X_transformed\n",
    "    \n",
    "    def get_feature_names_out(self, input_features: Optional[List[str]] = None) -> List[str]:\n",
    "        return [f\"{col}__{category}\" for col in input_features for category in self.categories_[col]]\n",
    "    \n",
    "    def inverse_transform(self, X: pd.DataFrame) -> pd.DataFrame:\n",
    "        X_inverse = X.copy()\n",
    "        for col, le in self.label_encoders.items():\n",
    "            X_inverse[col] = le.inverse_transform(X[col])\n",
    "        return X_inverse\n",
    "\n",
    "# Sample usage\n",
    "df = pd.DataFrame({'col1': ['A', 'B', 'A', 'C', 'A', 'B', 'A'],\n",
    "                   'col2': ['X', 'Y', 'X', 'Z', 'X', 'Y', 'X'],\n",
    "                   'numeric_col': [10, 20, 30, 40, 50, 60, 70]})\n",
    "\n",
    "encoder = MultiColumnLabelEncoder()\n",
    "encoder.fit(df)\n",
    "transformed_data = encoder.transform(df)\n",
    "inverse_transformed_data = encoder.inverse_transform(transformed_data)\n",
    "\n",
    "print(\"Transformed Data:\")\n",
    "print(transformed_data)\n",
    "print(\"\\nInverse Transformed Data:\")\n",
    "print(inverse_transformed_data)\n",
    "\n",
    "print(\"Categories Out:\")\n",
    "print(encoder.categories_)\n",
    "print(\"Feature Names Out:\")\n",
    "print(encoder.get_feature_names_out(input_features=df.columns))"
   ]
  }
 ],
 "metadata": {
  "kernelspec": {
   "display_name": ".venv",
   "language": "python",
   "name": "python3"
  },
  "language_info": {
   "codemirror_mode": {
    "name": "ipython",
    "version": 3
   },
   "file_extension": ".py",
   "mimetype": "text/x-python",
   "name": "python",
   "nbconvert_exporter": "python",
   "pygments_lexer": "ipython3",
   "version": "3.11.7"
  }
 },
 "nbformat": 4,
 "nbformat_minor": 2
}
